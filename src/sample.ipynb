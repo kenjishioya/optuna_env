{
 "cells": [
  {
   "cell_type": "code",
   "execution_count": 1,
   "id": "universal-complement",
   "metadata": {},
   "outputs": [
    {
     "ename": "RuntimeError",
     "evalue": "module compiled against API version 0xe but this version of numpy is 0xd",
     "output_type": "error",
     "traceback": [
      "\u001b[0;31m\u001b[0m",
      "\u001b[0;31mRuntimeError\u001b[0mTraceback (most recent call last)",
      "\u001b[0;31mRuntimeError\u001b[0m: module compiled against API version 0xe but this version of numpy is 0xd"
     ]
    }
   ],
   "source": [
    "from sklearn.datasets import make_regression\n",
    "import pandas as pd\n",
    "from sklearn.ensemble import RandomForestRegressor\n",
    "from sklearn.ensemble import AdaBoostRegressor\n",
    "from xgboost import XGBRegressor\n",
    "from sklearn.model_selection import train_test_split\n",
    "from sklearn.model_selection import cross_val_score\n",
    "from sklearn.metrics import mean_squared_error\n",
    "from utils.storage import get_storage\n",
    "import optuna"
   ]
  },
  {
   "cell_type": "code",
   "execution_count": 2,
   "id": "vietnamese-peace",
   "metadata": {},
   "outputs": [
    {
     "data": {
      "text/plain": [
       "'optuna'"
      ]
     },
     "execution_count": 2,
     "metadata": {},
     "output_type": "execute_result"
    }
   ],
   "source": [
    "import os\n",
    "os.environ.get(\"MYSQL_DB_USER\")"
   ]
  },
  {
   "cell_type": "code",
   "execution_count": 3,
   "id": "computational-milan",
   "metadata": {},
   "outputs": [
    {
     "name": "stdout",
     "output_type": "stream",
     "text": [
      "optuna\n"
     ]
    }
   ],
   "source": [
    "print(os.environ.get(\"MYSQL_DB_USER\"))"
   ]
  },
  {
   "cell_type": "code",
   "execution_count": 4,
   "id": "significant-costa",
   "metadata": {},
   "outputs": [],
   "source": [
    "X, y = make_regression(n_samples=10**4, n_features=20, n_informative=16, noise=0.0, random_state=1234)"
   ]
  },
  {
   "cell_type": "code",
   "execution_count": 5,
   "id": "armed-enemy",
   "metadata": {},
   "outputs": [],
   "source": [
    "X = pd.DataFrame(X)\n",
    "y = pd.Series(y)"
   ]
  },
  {
   "cell_type": "code",
   "execution_count": 6,
   "id": "raised-authentication",
   "metadata": {},
   "outputs": [
    {
     "name": "stdout",
     "output_type": "stream",
     "text": [
      "<class 'pandas.core.frame.DataFrame'>\n",
      "RangeIndex: 10000 entries, 0 to 9999\n",
      "Data columns (total 20 columns):\n",
      " #   Column  Non-Null Count  Dtype  \n",
      "---  ------  --------------  -----  \n",
      " 0   0       10000 non-null  float64\n",
      " 1   1       10000 non-null  float64\n",
      " 2   2       10000 non-null  float64\n",
      " 3   3       10000 non-null  float64\n",
      " 4   4       10000 non-null  float64\n",
      " 5   5       10000 non-null  float64\n",
      " 6   6       10000 non-null  float64\n",
      " 7   7       10000 non-null  float64\n",
      " 8   8       10000 non-null  float64\n",
      " 9   9       10000 non-null  float64\n",
      " 10  10      10000 non-null  float64\n",
      " 11  11      10000 non-null  float64\n",
      " 12  12      10000 non-null  float64\n",
      " 13  13      10000 non-null  float64\n",
      " 14  14      10000 non-null  float64\n",
      " 15  15      10000 non-null  float64\n",
      " 16  16      10000 non-null  float64\n",
      " 17  17      10000 non-null  float64\n",
      " 18  18      10000 non-null  float64\n",
      " 19  19      10000 non-null  float64\n",
      "dtypes: float64(20)\n",
      "memory usage: 1.5 MB\n",
      "None\n"
     ]
    }
   ],
   "source": [
    "print(X.info())"
   ]
  },
  {
   "cell_type": "code",
   "execution_count": 7,
   "id": "metropolitan-blogger",
   "metadata": {},
   "outputs": [],
   "source": [
    "X_train, X_test, y_train, y_test = train_test_split(X, y, test_size=0.2, random_state=1234)"
   ]
  },
  {
   "cell_type": "code",
   "execution_count": 8,
   "id": "rocky-debate",
   "metadata": {},
   "outputs": [],
   "source": [
    "def objective(trial):\n",
    "\n",
    "    # search better model\n",
    "    regressor_name = trial.suggest_categorical('classifier', ['RandomForest', 'XGBoost', 'AdaBoost'])\n",
    "    # For decision tree\n",
    "    # search better max_depth from 2 to 24\n",
    "    max_depth = trial.suggest_int('max_depth', 2, 24)\n",
    "    # search better n_estimators from 50 to 4000\n",
    "    n_estimators = trial.suggest_int('n_estimators', 50, 4000)\n",
    "    # search better max_depth from 1e-4 to 1\n",
    "    learning_rate = trial.suggest_float('learning_rate', 1e-4, 1)\n",
    "    \n",
    "    if regressor_name == 'RandomForest':\n",
    "        model = RandomForestRegressor(n_estimators=n_estimators, max_depth=max_depth, random_state=1234)\n",
    "    elif regressor_name == 'XGBoost':\n",
    "        model = XGBRegressor(n_estimators=n_estimators, max_depth=max_depth, learning_rate=learning_rate, random_state=1234)\n",
    "    elif regressor_name == 'AdaBoost':\n",
    "        model = AdaBoostRegressor(n_estimators=n_estimators, learning_rate=learning_rate, random_state=1234)\n",
    "        \n",
    "    error_list = cross_val_score(model, X_train, y_train, cv=3, scoring='neg_mean_squared_error')\n",
    "\n",
    "    return error_list.mean()  # An objective value linked with the Trial object."
   ]
  },
  {
   "cell_type": "code",
   "execution_count": 9,
   "id": "exclusive-single",
   "metadata": {},
   "outputs": [],
   "source": [
    "# study = optuna.create_study(direction='maximize', pruner=optuna.pruners.MedianPruner(), study_name='sample14', storage=get_storage(), load_if_exists=True)  # Create a new study.\n",
    "# study.optimize(objective, n_trials=50)  # Invoke optimization of the objective function."
   ]
  },
  {
   "cell_type": "code",
   "execution_count": 10,
   "id": "roman-character",
   "metadata": {},
   "outputs": [],
   "source": [
    "study = optuna.load_study(study_name='sample14', storage=get_storage())"
   ]
  },
  {
   "cell_type": "code",
   "execution_count": 11,
   "id": "immediate-international",
   "metadata": {},
   "outputs": [],
   "source": [
    "default_model = RandomForestRegressor(random_state=1234)\n",
    "default_model.fit(X_train, y_train)\n",
    "default_predict = default_model.predict(X_test)\n",
    "default_score = mean_squared_error(y_test, default_predict)"
   ]
  },
  {
   "cell_type": "code",
   "execution_count": 12,
   "id": "unnecessary-ratio",
   "metadata": {},
   "outputs": [],
   "source": [
    "if study.best_trial.params[\"classifier\"] == 'RandomForest':\n",
    "    best_model = RandomForestRegressor(n_estimators=study.best_trial.params[\"n_estimators\"], max_depth=study.best_trial.params[\"max_depth\"], random_state=1234)\n",
    "elif study.best_trial.params[\"classifier\"] == 'XGBoost':\n",
    "    best_model = XGBRegressor(n_estimators=study.best_trial.params[\"n_estimators\"], max_depth=study.best_trial.params[\"max_depth\"], learning_rate=study.best_trial.params[\"learning_rate\"], random_state=1234)\n",
    "elif study.best_trial.params[\"classifier\"] == 'AdaBoost':\n",
    "    best_model = AdaBoostRegressor(n_estimators=study.best_trial.params[\"n_estimators\"], learning_rate=study.best_trial.params[\"learning_rate\"], random_state=1234)\n",
    "    \n",
    "best_model.fit(X_train, y_train)\n",
    "best_predict = best_model.predict(X_test)\n",
    "best_score = mean_squared_error(y_test, best_predict)"
   ]
  },
  {
   "cell_type": "code",
   "execution_count": 13,
   "id": "religious-grain",
   "metadata": {},
   "outputs": [
    {
     "name": "stdout",
     "output_type": "stream",
     "text": [
      "Score of dafault parameters => 5708.327072384357\n",
      "Score of best parameters => 405.66758301451966\n"
     ]
    }
   ],
   "source": [
    "print(f'Score of dafault parameters => {default_score}')\n",
    "print(f'Score of best parameters => {best_score}')"
   ]
  }
 ],
 "metadata": {
  "jupytext": {
   "text_representation": {
    "extension": ".py",
    "format_name": "light",
    "format_version": "1.5",
    "jupytext_version": "1.10.3"
   }
  },
  "kernelspec": {
   "display_name": "Python 3",
   "language": "python",
   "name": "python3"
  },
  "language_info": {
   "codemirror_mode": {
    "name": "ipython",
    "version": 3
   },
   "file_extension": ".py",
   "mimetype": "text/x-python",
   "name": "python",
   "nbconvert_exporter": "python",
   "pygments_lexer": "ipython3",
   "version": "3.8.8"
  }
 },
 "nbformat": 4,
 "nbformat_minor": 5
}
