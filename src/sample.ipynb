{
 "cells": [
  {
   "cell_type": "code",
   "execution_count": null,
   "id": "universal-complement",
   "metadata": {},
   "outputs": [],
   "source": [
    "from sklearn.datasets import make_regression\n",
    "import pandas as pd\n",
    "from sklearn.ensemble import RandomForestRegressor\n",
    "from sklearn.ensemble import AdaBoostRegressor\n",
    "from xgboost import XGBRegressor\n",
    "from sklearn.model_selection import train_test_split\n",
    "from sklearn.model_selection import cross_val_score\n",
    "from sklearn.metrics import mean_squared_error\n",
    "from utils.storage import get_storage\n",
    "import optuna"
   ]
  },
  {
   "cell_type": "markdown",
   "id": "sublime-valley",
   "metadata": {},
   "source": [
    "#### データ作成"
   ]
  },
  {
   "cell_type": "code",
   "execution_count": null,
   "id": "significant-costa",
   "metadata": {},
   "outputs": [],
   "source": [
    "X, y = make_regression(n_samples=10**4, n_features=20, n_informative=18, noise=0.0, random_state=1234)"
   ]
  },
  {
   "cell_type": "code",
   "execution_count": null,
   "id": "armed-enemy",
   "metadata": {},
   "outputs": [],
   "source": [
    "X = pd.DataFrame(X)\n",
    "y = pd.Series(y)"
   ]
  },
  {
   "cell_type": "code",
   "execution_count": null,
   "id": "raised-authentication",
   "metadata": {},
   "outputs": [],
   "source": [
    "print(X.info())"
   ]
  },
  {
   "cell_type": "markdown",
   "id": "independent-houston",
   "metadata": {},
   "source": [
    "#### データ分割"
   ]
  },
  {
   "cell_type": "code",
   "execution_count": null,
   "id": "metropolitan-blogger",
   "metadata": {},
   "outputs": [],
   "source": [
    "X_train, X_test, y_train, y_test = train_test_split(X, y, test_size=0.2, random_state=1234)"
   ]
  },
  {
   "cell_type": "markdown",
   "id": "welsh-nursing",
   "metadata": {},
   "source": [
    "#### チューニング定義"
   ]
  },
  {
   "cell_type": "code",
   "execution_count": null,
   "id": "rocky-debate",
   "metadata": {},
   "outputs": [],
   "source": [
    "def objective(trial):\n",
    "\n",
    "    # モデルの種類\n",
    "    regressor_name = trial.suggest_categorical('classifier', ['RandomForest', 'XGBoost', 'AdaBoost'])\n",
    "    # max depthのチューニング(2〜24)\n",
    "    max_depth = trial.suggest_int('max_depth', 2, 24)\n",
    "    # n estimatorsのチューニング(50〜4000)\n",
    "    n_estimators = trial.suggest_int('n_estimators', 50, 4000)\n",
    "    # learning rateのチューニング(0.0001〜0.4)\n",
    "    learning_rate = trial.suggest_float('learning_rate', 1e-4, 0.4)\n",
    "    \n",
    "    if regressor_name == 'RandomForest':\n",
    "        model = RandomForestRegressor(n_estimators=n_estimators, max_depth=max_depth, random_state=1234)\n",
    "    elif regressor_name == 'XGBoost':\n",
    "        model = XGBRegressor(n_estimators=n_estimators, max_depth=max_depth, learning_rate=learning_rate, random_state=1234)\n",
    "    elif regressor_name == 'AdaBoost':\n",
    "        model = AdaBoostRegressor(n_estimators=n_estimators, learning_rate=learning_rate, random_state=1234)\n",
    "        \n",
    "    error_list = cross_val_score(model, X_train, y_train, cv=3, scoring='neg_mean_squared_error')\n",
    "\n",
    "    return error_list.mean()"
   ]
  },
  {
   "cell_type": "markdown",
   "id": "professional-newark",
   "metadata": {},
   "source": [
    "#### チューニング開始"
   ]
  },
  {
   "cell_type": "code",
   "execution_count": null,
   "id": "exclusive-single",
   "metadata": {},
   "outputs": [],
   "source": [
    "study = optuna.create_study(direction='maximize', pruner=optuna.pruners.MedianPruner(), study_name='sample', storage=get_storage(), load_if_exists=True)\n",
    "study.optimize(objective, n_trials=50) "
   ]
  },
  {
   "cell_type": "code",
   "execution_count": null,
   "id": "roman-character",
   "metadata": {},
   "outputs": [],
   "source": [
    "# study = optuna.load_study(study_name='sample', storage=get_storage())"
   ]
  },
  {
   "cell_type": "markdown",
   "id": "proved-handy",
   "metadata": {},
   "source": [
    "#### デフォルトパラメータとチューニングしたパラメータの比較"
   ]
  },
  {
   "cell_type": "code",
   "execution_count": null,
   "id": "immediate-international",
   "metadata": {},
   "outputs": [],
   "source": [
    "default_model = RandomForestRegressor(random_state=1234)\n",
    "default_model.fit(X_train, y_train)\n",
    "default_predict = default_model.predict(X_test)\n",
    "default_score = mean_squared_error(y_test, default_predict)"
   ]
  },
  {
   "cell_type": "code",
   "execution_count": null,
   "id": "unnecessary-ratio",
   "metadata": {},
   "outputs": [],
   "source": [
    "if study.best_trial.params[\"classifier\"] == 'RandomForest':\n",
    "    best_model = RandomForestRegressor(n_estimators=study.best_trial.params[\"n_estimators\"], max_depth=study.best_trial.params[\"max_depth\"], random_state=1234)\n",
    "elif study.best_trial.params[\"classifier\"] == 'XGBoost':\n",
    "    best_model = XGBRegressor(n_estimators=study.best_trial.params[\"n_estimators\"], max_depth=study.best_trial.params[\"max_depth\"], learning_rate=study.best_trial.params[\"learning_rate\"], random_state=1234)\n",
    "elif study.best_trial.params[\"classifier\"] == 'AdaBoost':\n",
    "    best_model = AdaBoostRegressor(n_estimators=study.best_trial.params[\"n_estimators\"], learning_rate=study.best_trial.params[\"learning_rate\"], random_state=1234)\n",
    "    \n",
    "best_model.fit(X_train, y_train)\n",
    "best_predict = best_model.predict(X_test)\n",
    "best_score = mean_squared_error(y_test, best_predict)"
   ]
  },
  {
   "cell_type": "code",
   "execution_count": null,
   "id": "religious-grain",
   "metadata": {},
   "outputs": [],
   "source": [
    "print(f'Score of dafault parameters => {default_score}')\n",
    "print(f'Score of best parameters => {best_score}')"
   ]
  }
 ],
 "metadata": {
  "jupytext": {
   "text_representation": {
    "extension": ".py",
    "format_name": "light",
    "format_version": "1.5",
    "jupytext_version": "1.10.3"
   }
  },
  "kernelspec": {
   "display_name": "Python 3",
   "language": "python",
   "name": "python3"
  },
  "language_info": {
   "codemirror_mode": {
    "name": "ipython",
    "version": 3
   },
   "file_extension": ".py",
   "mimetype": "text/x-python",
   "name": "python",
   "nbconvert_exporter": "python",
   "pygments_lexer": "ipython3",
   "version": "3.8.8"
  }
 },
 "nbformat": 4,
 "nbformat_minor": 5
}
