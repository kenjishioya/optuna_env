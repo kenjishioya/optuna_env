{
 "cells": [
  {
   "cell_type": "code",
   "execution_count": 6,
   "id": "gentle-circular",
   "metadata": {},
   "outputs": [],
   "source": [
    "import os\n",
    "from optuna.storages import RDBStorage"
   ]
  },
  {
   "cell_type": "code",
   "execution_count": 7,
   "id": "quality-lawyer",
   "metadata": {},
   "outputs": [],
   "source": [
    "def get_storage():\n",
    "    main_ip = os.environ.get(\"MAIN_IP\")\n",
    "    if main_ip is None or main_ip == '0.0.0.0':\n",
    "        main_ip = 'optuna_mysql'\n",
    "    url = f'mysql://{os.environ.get(\"MYSQL_DB_USER\")}:{os.environ.get(\"MYSQL_DB_PASS\")}@{main_ip}:{os.environ.get(\"MYSQL_DB_PORT\")}/{os.environ.get(\"MYSQL_DB_NAME\")}'\n",
    "    return RDBStorage(url=url)"
   ]
  }
 ],
 "metadata": {
  "jupytext": {
   "text_representation": {
    "extension": ".py",
    "format_name": "light",
    "format_version": "1.5",
    "jupytext_version": "1.10.3"
   }
  },
  "kernelspec": {
   "display_name": "Python 3",
   "language": "python",
   "name": "python3"
  },
  "language_info": {
   "codemirror_mode": {
    "name": "ipython",
    "version": 3
   },
   "file_extension": ".py",
   "mimetype": "text/x-python",
   "name": "python",
   "nbconvert_exporter": "python",
   "pygments_lexer": "ipython3",
   "version": "3.8.8"
  }
 },
 "nbformat": 4,
 "nbformat_minor": 5
}
